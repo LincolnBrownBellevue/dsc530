{
 "cells": [
  {
   "cell_type": "code",
   "execution_count": 1,
   "metadata": {},
   "outputs": [
    {
     "name": "stdout",
     "output_type": "stream",
     "text": [
      "Hello World! I wonder why that is always the default coding text to start with.\n",
      "4\n",
      "144\n",
      "6.0\n",
      "Combine these two strings.\n",
      "['This', 'is', 'a', 'list', 'Append']\n",
      "('Tuples', \"can't\", 'be', 'modified')\n"
     ]
    }
   ],
   "source": [
    "print(\"Hello World! I wonder why that is always the default coding text to start with.\")\n",
    "print(2 + 2)\n",
    "print(12 * 12) \n",
    "print(12 / 2) \n",
    "print(\"Combine these \" + \"two strings.\")\n",
    "list1 = [\"This\", \"is\", \"a\", \"list\"]\n",
    "list1.append(\"Append\")\n",
    "print(list1)\n",
    "tuple1 = (\"Tuples\", \"can't\", \"be\", \"modified\")\n",
    "print(tuple1)\n"
   ]
  },
  {
   "cell_type": "code",
   "execution_count": null,
   "metadata": {},
   "outputs": [],
   "source": []
  }
 ],
 "metadata": {
  "kernelspec": {
   "display_name": "Python 3",
   "language": "python",
   "name": "python3"
  },
  "language_info": {
   "codemirror_mode": {
    "name": "ipython",
    "version": 3
   },
   "file_extension": ".py",
   "mimetype": "text/x-python",
   "name": "python",
   "nbconvert_exporter": "python",
   "pygments_lexer": "ipython3",
   "version": "3.7.3"
  }
 },
 "nbformat": 4,
 "nbformat_minor": 2
}
