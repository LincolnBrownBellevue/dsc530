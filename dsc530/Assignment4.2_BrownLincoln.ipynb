{
 "cells": [
  {
   "cell_type": "code",
   "execution_count": 45,
   "metadata": {},
   "outputs": [],
   "source": [
    "import numpy as np\n",
    "import thinkstats2\n",
    "import thinkplot\n",
    "import nsfg\n",
    "\n",
    "\n",
    "preg = nsfg.ReadFemPreg()\n",
    "live = preg[preg.outcome == 1]\n",
    "\n",
    "def BiasPmf(pmf, label):\n",
    "    new_pmf = pmf.Copy(label=label)\n",
    "    \n",
    "    for x, p in pmf.Items():\n",
    "        new_pmf.Mult(x, x)\n",
    "        \n",
    "    new_pmf.Normalize()\n",
    "    return new_pmf\n",
    "\n",
    "def UnbiasPmf(pmf, label):\n",
    "    new_pmf = pmf.Copy(label=label)\n",
    "    \n",
    "    for x, p in pmf.Items():\n",
    "        new_pmf.Mult(x, 1.0/x)\n",
    "        \n",
    "    new_pmf.Normalize()\n",
    "    return new_pmf\n",
    "\n",
    "resp = nsfg.ReadFemResp()\n",
    "numkdhh = resp.numkdhh\n"
   ]
  },
  {
   "cell_type": "code",
   "execution_count": null,
   "metadata": {},
   "outputs": [],
   "source": [
    "Exercise 3-1\n",
    "Something like the class size paradox appears if you survey children and ask how many children are in their family. \n",
    "Families with many children are more likely to appear in your smaple,\n",
    "and families with no children have no chance to be in the sample.\n",
    "Use the NSFG respondent variable NUMKDHH to construct the actual distribution \n",
    "for the number of children under 18 in the household.\n",
    "\n",
    "Now compute the biased distribtuion we would see if we surveyed the children and asked them how many children\n",
    "under 18 (including themselves) are in their household.\n",
    "\n",
    "Plot the actual and biased distribtuions, and compute their means. As a starting place, you can use chap03ex.ipynb\n"
   ]
  },
  {
   "cell_type": "code",
   "execution_count": 47,
   "metadata": {},
   "outputs": [
    {
     "name": "stdout",
     "output_type": "stream",
     "text": [
      "Pmf({0: 0.466178202276593, 1: 0.21405207379301322, 2: 0.19625801386889966, 3: 0.08713855815779145, 4: 0.025644380478869556, 5: 0.01072877142483318})\n",
      "Actual mean = 1.024205155043831\n"
     ]
    },
    {
     "data": {
      "image/png": "[encoded data removed]",
      "text/plain": [
       "<Figure size 432x288 with 1 Axes>"
      ]
     },
     "metadata": {
      "needs_background": "light"
     },
     "output_type": "display_data"
    }
   ],
   "source": [
    "#Exercise 3-1\n",
    "actualPmf = thinkstats2.Pmf(numkdhh, label='numkdhh')\n",
    "print(actualPmf)\n",
    "thinkplot.Pmf(actualPmf)\n",
    "thinkplot.Config(xlabel='Number of Children', ylabel='PMF')\n",
    "a_mean = actualPmf.Mean()\n",
    "print(f\"Actual mean = {a_mean}\")"
   ]
  },
  {
   "cell_type": "code",
   "execution_count": 42,
   "metadata": {},
   "outputs": [
    {
     "name": "stdout",
     "output_type": "stream",
     "text": [
      "Biased Mean: 2.403679100664282\n"
     ]
    },
    {
     "data": {
      "image/png": "[encoded data removed]",
      "text/plain": [
       "<Figure size 432x288 with 1 Axes>"
      ]
     },
     "metadata": {
      "needs_background": "light"
     },
     "output_type": "display_data"
    }
   ],
   "source": [
    "#Exercise 3-1\n",
    "biasedPmf = BiasPmf(actualPmf, label='observed')\n",
    "thinkplot.Pmf(biasedPmf)\n",
    "thinkplot.Config(xlabel='Observed Number of Children', ylabel='PMF')\n",
    "b_mean = biasedPmf.Mean()\n",
    "print(f\"Biased Mean: {b_mean}\")"
   ]
  },
  {
   "cell_type": "markdown",
   "metadata": {},
   "source": [
    "#Exercise 3-1\n",
    "thinkplot.PrePlot(2)\n",
    "thinkplot.Pmfs([actualPmf, biasedPmf])\n",
    "thinkplot.Show(xlabel='Number of Children', ylabel=\"PMF\")"
   ]
  },
  {
   "cell_type": "code",
   "execution_count": 76,
   "metadata": {},
   "outputs": [
    {
     "name": "stdout",
     "output_type": "stream",
     "text": [
      "Actual Mean: 1.024205155043831\n",
      "Biased Mean: 2.403679100664282\n",
      "Actual Var: 1.4128643263531195\n",
      "Biased Var: 1.1732721055059874\n"
     ]
    }
   ],
   "source": [
    "#Exercise 3-2\n",
    "\n",
    "#pg. 22 mean = sum of the values divided by the number of values \n",
    "# mean = 1/n * sum(x)\n",
    "\n",
    "#pg. 36\n",
    "# x = unique values in PMF and p = PMF(x)\n",
    "def PmfMean(pmf):\n",
    "    mean = 0.0\n",
    "    for x, p in pmf.Items():\n",
    "        mean += p * x\n",
    "    return mean\n",
    "\n",
    "def PmfVar(pmf):\n",
    "    var = 0.0\n",
    "    for x, p in pmf.Items():\n",
    "        var += p * ((x- pmf.Mean()) ** 2)\n",
    "    return var\n",
    "\n",
    "\n",
    "test_actual_mean = PmfMean(actualPmf)\n",
    "test_actual_var = PmfVar(actualPmf)\n",
    "test_biased_mean = PmfMean(biasedPmf)\n",
    "test_biased_var = PmfVar(biasedPmf)\n",
    "\n",
    "assert(actualPmf.Mean() == test_actual_mean)\n",
    "assert(actualPmf.Var() == test_actual_var)\n",
    "assert(biasedPmf.Mean() == test_biased_mean)\n",
    "assert(biasedPmf.Var() == test_biased_var)\n",
    "\n",
    "print(f\"Actual Mean: {test_actual_mean}\")\n",
    "print(f\"Biased Mean: {test_biased_mean}\")\n",
    "print(f\"Actual Var: {test_actual_var}\")\n",
    "print(f\"Biased Var: {test_biased_var}\")\n"
   ]
  },
  {
   "cell_type": "code",
   "execution_count": 77,
   "metadata": {},
   "outputs": [],
   "source": [
    "#Exercise 4-1 \n",
    "# I weighed 7lbs 6 oz at birth\n",
    "import first\n",
    "\n",
    "live, firsts, others = first.MakeFrames()\n"
   ]
  },
  {
   "cell_type": "code",
   "execution_count": 90,
   "metadata": {},
   "outputs": [
    {
     "name": "stdout",
     "output_type": "stream",
     "text": [
      "Index(['caseid', 'pregordr', 'howpreg_n', 'howpreg_p', 'moscurrp', 'nowprgdk',\n",
      "       'pregend1', 'pregend2', 'nbrnaliv', 'multbrth',\n",
      "       ...\n",
      "       'laborfor_i', 'religion_i', 'metro_i', 'basewgt', 'adj_mod_basewgt',\n",
      "       'finalwgt', 'secu_p', 'sest', 'cmintvw', 'totalwgt_lb'],\n",
      "      dtype='object', length=244)\n",
      "Firsts- w/ NA: 4413, w/o NA: 4363\n",
      "Others- w/ NA: 4735, w/o NA: 4675\n"
     ]
    },
    {
     "data": {
      "text/plain": [
       "7.201094430437775"
      ]
     },
     "execution_count": 90,
     "metadata": {},
     "output_type": "execute_result"
    }
   ],
   "source": [
    "#Exercise 4-1 \n",
    "print(firsts.columns)\n",
    "first_wgt = firsts.totalwgt_lb\n",
    "first_wgt_dropna = first_wgt.dropna()\n",
    "print(f\"Firsts- w/ NA: {len(first_wgt)}, w/o NA: {len(first_wgt_dropna)}\")\n",
    "\n",
    "other_wgt = others.totalwgt_lb\n",
    "other_wgt_dropna = other_wgt.dropna()\n",
    "print(f\"Others- w/ NA: {len(other_wgt)}, w/o NA: {len(other_wgt_dropna)}\")\n",
    "\n",
    "first_pmf = thinkstats2.Pmf(first_wgt_dropna, label='first')\n",
    "other_pmf = thinkstats2.Pmf(other_wgt_dropna, label='others')\n",
    "first_pmf.Mean()"
   ]
  },
  {
   "cell_type": "code",
   "execution_count": 100,
   "metadata": {},
   "outputs": [
    {
     "data": {
      "text/plain": [
       "(0.0, 0.2, 0.6, 0.8, 0.8, 1.0)"
      ]
     },
     "execution_count": 100,
     "metadata": {},
     "output_type": "execute_result"
    }
   ],
   "source": [
    "#Exercise 4-1\n",
    "def PercentileRank(scores, observed):\n",
    "    count = 0 \n",
    "    for score in scores:\n",
    "        if score <= observed:\n",
    "            count += 1\n",
    "    \n",
    "    percentile_rank = 100.0 * count / len(scores)\n",
    "    return percentile_rank\n",
    "\n",
    "t = [55, 66, 77, 88, 99]\n",
    "\n",
    "assert(PercentileRank(t, 88) == 80.0)\n",
    "\n",
    "def Percentile(scores, percentile_rank):\n",
    "    scores.sort()\n",
    "    index = percentile_rank * (len(scores) - 1) // 100\n",
    "    return scores[index]\n",
    "                               \n",
    "        \n",
    "assert(Percentile(t, 50) == 77)\n",
    "\n",
    "def EvalCdf(sample, x):\n",
    "    count = 0.0\n",
    "    for value in sample:\n",
    "        if value <= x:\n",
    "            count += 1\n",
    "            \n",
    "    prob = count / len(sample)\n",
    "    return prob\n",
    "\n",
    "t = [1,2,2,3,5]\n",
    "EvalCdf(t, 0), EvalCdf(t, 1), EvalCdf(t, 2), EvalCdf(t, 3), EvalCdf(t, 4), EvalCdf(t, 5)\n",
    "\n"
   ]
  },
  {
   "cell_type": "code",
   "execution_count": 101,
   "metadata": {},
   "outputs": [
    {
     "data": {
      "image/png": "[encoded data removed]",
      "text/plain": [
       "<Figure size 432x288 with 1 Axes>"
      ]
     },
     "metadata": {
      "needs_background": "light"
     },
     "output_type": "display_data"
    }
   ],
   "source": [
    "#Exercise 4-1\n",
    "first_cdf = thinkstats2.Cdf(firsts.totalwgt_lb, label='first')\n",
    "other_cdf = thinkstats2.Cdf(others.totalwgt_lb, label='other')\n",
    "\n",
    "thinkplot.PrePlot(2)\n",
    "thinkplot.Cdfs([first_cdf, other_cdf])\n",
    "thinkplot.Config(xlabel='Weight in lbs', ylabel='CDF')\n"
   ]
  },
  {
   "cell_type": "code",
   "execution_count": 106,
   "metadata": {},
   "outputs": [
    {
     "data": {
      "text/plain": [
       "50.93048128342246"
      ]
     },
     "execution_count": 106,
     "metadata": {},
     "output_type": "execute_result"
    }
   ],
   "source": [
    "#Exercise 4-1\n",
    "#I am second born, so I will use the other_cdf distribution\n",
    "other_cdf.PercentileRank(7.375)\n"
   ]
  },
  {
   "cell_type": "code",
   "execution_count": 112,
   "metadata": {},
   "outputs": [
    {
     "name": "stderr",
     "output_type": "stream",
     "text": [
      "No handles with labels found to put in legend.\n",
      "No handles with labels found to put in legend.\n"
     ]
    },
    {
     "data": {
      "image/png": "[encoded data removed]",
      "text/plain": [
       "<Figure size 432x288 with 1 Axes>"
      ]
     },
     "metadata": {
      "needs_background": "light"
     },
     "output_type": "display_data"
    }
   ],
   "source": [
    "#Exercise 4-2\n",
    "rand_nums = np.random.random(1000)\n",
    "\n",
    "rand_pmf = thinkstats2.Pmf(rand_nums)\n",
    "thinkplot.Pmf(rand_pmf, linewidth=0.1)\n",
    "thinkplot.Config(xlabel='Random variable', ylabel=\"PMF\")\n",
    "\n",
    "\n",
    "rand_cdf = thinkstats2.Cdf(rand_nums)\n",
    "thinkplot.Cdf(rand_cdf)\n",
    "thinkplot.Config(xlabel=\"Random variable\", ylabel=\"CDF\")"
   ]
  }
 ],
 "metadata": {
  "kernelspec": {
   "display_name": "Python 3",
   "language": "python",
   "name": "python3"
  },
  "language_info": {
   "codemirror_mode": {
    "name": "ipython",
    "version": 3
   },
   "file_extension": ".py",
   "mimetype": "text/x-python",
   "name": "python",
   "nbconvert_exporter": "python",
   "pygments_lexer": "ipython3",
   "version": "3.7.3"
  }
 },
 "nbformat": 4,
 "nbformat_minor": 2
}
