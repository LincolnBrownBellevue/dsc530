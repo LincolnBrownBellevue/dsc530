{
 "cells": [
  {
   "cell_type": "code",
   "execution_count": 94,
   "metadata": {},
   "outputs": [
    {
     "name": "stdout",
     "output_type": "stream",
     "text": [
      "<class 'scipy.stats._distn_infrastructure.rv_frozen'>\n",
      "The mean of dist is: 178.0\n",
      "The standard deviation is: 7.7\n",
      "34% of men are between 5'10\" and 6'1\"\n"
     ]
    }
   ],
   "source": [
    "\"\"\"\n",
    "Lincoln Brown\n",
    "Assignment 5.2\n",
    "DSC530-T301\n",
    "Dr. Parajulee\n",
    "\n",
    "Exercise 5-1\n",
    "In the BRFSS (see \"The lognormal Distribtuion\" on page 56), the distribtuion of heights \n",
    "is roughly normal with parameters  mu = 178 cm and sigma = 7.7cm for men, \n",
    "and mu=163 cm and sigma = 7.3 cm for women.\n",
    "\n",
    "In order to join the Blue Man Group (http://bluemancasting.com), \n",
    "you have to be male and between 5'10\" and 6'1\" tall.\n",
    "\n",
    "What percentage of the US male population is in this range?\n",
    "Hint: use scipy.stats.norm.cdf\n",
    "\n",
    "\"\"\"\n",
    "import scipy.stats\n",
    "import brfss\n",
    "\n",
    "df = brfss.ReadBrfss()\n",
    "weights = df.wtkg2.dropna()\n",
    "\n",
    "mu = 178\n",
    "sigma = 7.7\n",
    "dist = scipy.stats.norm(loc=mu, scale=sigma)\n",
    "print(type(dist))\n",
    "# dist is a random frozen variable capable of calculating a mean and sd\n",
    "print(f\"The mean of dist is: {dist.mean()}\")\n",
    "print(f\"The standard deviation is: {dist.std()}\")\n",
    "dist.mean(), dist.std()\n",
    "\n",
    "#Find percent of men between 5'10\" and 6'1\"\n",
    "cm = 2.54\n",
    "low_cm = 70 * cm\n",
    "hi_cm = 73 * cm\n",
    "\n",
    "\n",
    "low = dist.cdf(low_cm)\n",
    "hi = dist.cdf(hi_cm)\n",
    "\n",
    "low, hi, hi - low\n",
    "\n",
    "\n",
    "\n",
    "\n",
    "#The \"low\" percentage marker identifies the percentage of people in the left tail of the distribution.\n",
    "#We can state that 48.96% of men are less than 5'10\", and that 83.23% are less than 6'1\".\n",
    "#However, to answer our question, we need to look at the space between the hi and low rankings. \n",
    "#To do this, we take the difference between hi and low to derive our answer.\n",
    "#What percentage of men are between 5'10\" and 6'1\". \n",
    "between = hi-low\n",
    "answer = '{:.0%}'.format(between)\n",
    "\n",
    "print(f'{answer} of men are between 5\\'10\" and 6\\'1\"')\n",
    "\n",
    "#"
   ]
  },
  {
   "cell_type": "code",
   "execution_count": 95,
   "metadata": {},
   "outputs": [
    {
     "name": "stdout",
     "output_type": "stream",
     "text": [
      "The mean height in Pareto world is 2.428571428571429 meters.\n",
      "78% percentage of people are below the mean.\n",
      "It is expected that 55,603 people will be taller than 1 kilometer\n",
      "The tallest person would be expected to be 618,350 meters tall.\n"
     ]
    }
   ],
   "source": [
    "\"\"\"\n",
    "Exercise 5-2\n",
    "\n",
    "To get a feel for the Pareto distribution, let's see how different the world \n",
    "would be if the distribtuion of human height were Pareto.\n",
    "With the paramters xm = 1 m and alpha = 1.7, we get a distribtuion with a reasonable minimum,\n",
    "1 m, and median, 1.5m.\n",
    "\n",
    "Plot this distribution. What is the mean human height in Pareto world? \n",
    "What fraction of the population is shorter than the mean? \n",
    "If there are 7 billion people in Pareto world, \n",
    "how many do we expect to be taller than 1 km?\n",
    "How tall do we expect the tallest person to be?\n",
    "\n",
    "\"\"\"\n",
    "\n",
    "xmin = 1\n",
    "alpha = 1.7\n",
    "pareto_world = scipy.stats.pareto(b=alpha, scale=xmin)\n",
    "\n",
    "#What is the mean height in Pareto world?\n",
    "mean = pareto_world.mean()\n",
    "print(f\"The mean height in Pareto world is {mean} meters.\")\n",
    "\n",
    "# What fraction of people are shorter than the mean?\n",
    "#Using the Pareto distribution, we can use a CDF to produce the percentile rank for our mean.\n",
    "mean_rank = pareto_world.cdf(pareto_world.mean())\n",
    "mean_percent = '{:.0%}'.format(mean_rank) \n",
    "\n",
    "print(f\"{mean_percent} percentage of people are below the mean.\")\n",
    "\n",
    "#How many do we expect to be taller than 1km?\n",
    "#To calculate this answer, we need to first use CDF to determine the percentile rank for those < 1km\n",
    "# Our unit of measure is meters, so this number needs to be 1000\n",
    "km_rank = pareto_world.cdf(1000)\n",
    "\n",
    "#km_rank provides us with how often the random variable is less than, but we would like to know the opposite.\n",
    "#We will use the Complementary Cumulative Distribution Function, which is also known as a survival function\n",
    "#We will then multiply this by 7 billion to reach our answer.\n",
    "km_ccdf = pareto_world.sf(1000) * 7e9\n",
    "\n",
    "print(f\"It is expected that {km_ccdf:,.0f} people will be taller than 1 kilometer\")\n",
    "\n",
    "# How tall do we expect the tallest person to be?\n",
    "# We have been using a CDF to find the rank of a certain value in meters.\n",
    "# Now we will use the inverse function Percent Point Function (ppf) to use a probability to return a height in m.\n",
    "# Our probability is 1 out of 7 billion people.\n",
    "tallest = pareto_world.ppf(1-1/7e9)\n",
    "print(f\"The tallest person would be expected to be {tallest:,.0f} meters tall.\")"
   ]
  },
  {
   "cell_type": "code",
   "execution_count": 96,
   "metadata": {},
   "outputs": [],
   "source": [
    "\"\"\"\n",
    "Exercise 6-1\n",
    "The distribtuion of income is famously skewed to the right. In this exercise, we'll measure\n",
    "how strong that skew is.\n",
    "\n",
    "The Current Population Survey (CPS) is a joint effort of the Bureau of Labor Statistics and the Census\n",
    "Bureau to study income and related variables. Data collecte din 2013 is available from the Census Bureau's website.\n",
    "I downloaded hinc06.xls, which is an Excel spreadsheet with information about household income, and converted it\n",
    "to hinc06.csv, a CSV file you will find in the repository for this book. \n",
    "You will also find hinc2.py, which reads this file and transforms the data.\n",
    "\n",
    "Thee data is in the form of a series of income ranges and the number of respondents who fell in each range.\n",
    "The lowest range includes respondents who reported annual hosushold income \"Under $5000.\" The highest range\n",
    "includes respondents who made \"$250,000 or more.\"\n",
    "\n",
    "To estimate mean and other statistics from these data, we have to make sure some assumptions about the lower\n",
    "and upper bounds, and how the values are distributed in each range. hinc2.py provides InterpolateSample, which\n",
    "shows one way to model this data. It takes a DataFrame with a column, income, that contains the upper bound of each\n",
    "range, and freq, which contains the number of respondents in each frame. \n",
    "\n",
    "It also takes log_upper, which is an assumed upper bound on the highest range, expressed in log10 dollars. \n",
    "The default value, log_upper=6.0 represents the assumption that the largest income among the respondents is 10^6,\n",
    "or one million dollars. \n",
    "\n",
    "InterpolateSample generates a pseudo-sample; that is, a sample of household incomes that yields the same number of\n",
    "respondents in each range as the actual data. It assumes that incomes in each range are equally spaced on a log10 scale.\n",
    "\n",
    "\n",
    "\n",
    "\n",
    "\n",
    "\"\"\"\n",
    "\n",
    "from __future__ import print_function, division\n",
    "\n",
    "%matplotlib inline\n",
    "\n",
    "import numpy as np\n",
    "\n",
    "import density\n",
    "import hinc\n",
    "\n",
    "import thinkstats2\n",
    "import thinkplot\n",
    "\n",
    "def InterpolateSample(df, log_upper=6.0):\n",
    "    \"\"\"\n",
    "    Makes a sample of log10 household income. \n",
    "    \n",
    "    Assumes that log10 income is uniform in each range.\n",
    "    \n",
    "    df: DataFrame with columns income and freq\n",
    "    log_upper: log10 of the assumed upper bound for the highest range\n",
    "    \n",
    "    returns: NumPy array of log10 household income\n",
    "    \"\"\"\n",
    "    \n",
    "    #compute the log10 of the upper bound for each range\n",
    "    df['log_upper'] = np.log10(df.income)\n",
    "    \n",
    "    # get the lower bounds by shifting the upper bound and filling in\n",
    "    #the first element\n",
    "    df['log_lower'] = df.log_upper.shift(1)\n",
    "    df.loc[0, 'log_lower'] = 3.0\n",
    "    \n",
    "    #plug in a value for the unknown upper bound of the highest range\n",
    "    df.loc[41, 'log_upper'] = log_upper\n",
    "    \n",
    "    #Use the freq column to generate the right number of values in each range\n",
    "    arrays = []\n",
    "    for _, row in df.iterrows():\n",
    "        vals = np.linspace(row.log_lower, row.log_upper, int(row.freq))\n",
    "        arrays.append(vals)\n",
    "        \n",
    "    #Collect the arrays into a single sample\n",
    "    log_sample = np.concatenate(arrays)\n",
    "    return log_sample\n",
    "        "
   ]
  },
  {
   "cell_type": "code",
   "execution_count": 97,
   "metadata": {},
   "outputs": [
    {
     "name": "stdout",
     "output_type": "stream",
     "text": [
      "Log upper 6\n",
      "mean 74278.7075311872\n",
      "std 93946.9299634784\n",
      "median 51226.45447894046\n",
      "skewness 4.949920244429579\n",
      "pearson skewness 0.7361258019141795\n",
      "cdf[mean] 0.660005879566872\n",
      "\n",
      "Log upper 7\n",
      "mean 124267.39722164703\n",
      "std 559608.5013743478\n",
      "median 51226.45447894046\n",
      "skewness 11.603690267537795\n",
      "pearson skewness 0.39156450927742104\n",
      "cdf1[mean] 0.660005879566872\n",
      "\n",
      "log_upper= 6 - Mean: 74278.7075311872, Median: 51226.45447894046\n",
      "\n",
      "log_upper= 7 - Mean: 124267.39722164703, Median: 51226.45447894046\n",
      "Roughly 66% of households make less than the mean.\n"
     ]
    }
   ],
   "source": [
    "\"\"\"\n",
    "Compute the media, mean, skewness and Pearson's skewness of the resulting sample. \n",
    "\"\"\"\n",
    "\n",
    "income_df = hinc.ReadData()\n",
    "log_sample = InterpolateSample(income_df, log_upper=6.0)\n",
    "log_sample1 = InterpolateSample(income_df, log_upper=7.0)\n",
    "\n",
    "print(\"Log upper 6\")\n",
    "sample = np.power(10, log_sample)\n",
    "mean, median = density.Summarize(sample)\n",
    "cdf = thinkstats2.Cdf(sample)\n",
    "print('cdf[mean]', cdf[mean])\n",
    "\n",
    "print(\"\\nLog upper 7\")\n",
    "sample1 = np.power(10, log_sample7)\n",
    "mean1, median1 = density.Summarize(sample1)\n",
    "cdf1 = thinkstats2.Cdf(sample1)\n",
    "print('cdf1[mean]', cdf1[mean])\n",
    "\n",
    "\n",
    "print(f\"\\nlog_upper= 6 - Mean: {mean}, Median: {median}\")\n",
    "\n",
    "print(f\"\\nlog_upper= 7 - Mean: {mean1}, Median: {median1}\")\n",
    "\n",
    "print(f\"Roughly {'{:.0%}'.format(cdf[mean])} of households make less than the mean.\")"
   ]
  },
  {
   "cell_type": "code",
   "execution_count": 98,
   "metadata": {},
   "outputs": [
    {
     "data": {
      "image/png": "[encoded data removed]",
      "text/plain": [
       "<Figure size 432x288 with 1 Axes>"
      ]
     },
     "metadata": {
      "needs_background": "light"
     },
     "output_type": "display_data"
    },
    {
     "data": {
      "text/plain": [
       "<Figure size 576x432 with 0 Axes>"
      ]
     },
     "metadata": {},
     "output_type": "display_data"
    }
   ],
   "source": [
    "#The next few plots show the difference between a log_upper of 6 and 7\n",
    "log_cdf = thinkstats2.Cdf(log_sample)\n",
    "thinkplot.Cdf(log_cdf)\n",
    "thinkplot.Show(xlabel='Household Income', ylabel='CDF')"
   ]
  },
  {
   "cell_type": "code",
   "execution_count": 99,
   "metadata": {},
   "outputs": [
    {
     "data": {
      "image/png": "[encoded data removed]",
      "text/plain": [
       "<Figure size 432x288 with 1 Axes>"
      ]
     },
     "metadata": {
      "needs_background": "light"
     },
     "output_type": "display_data"
    },
    {
     "data": {
      "text/plain": [
       "<Figure size 576x432 with 0 Axes>"
      ]
     },
     "metadata": {},
     "output_type": "display_data"
    }
   ],
   "source": [
    "log_cdf1 = thinkstats2.Cdf(log_sample1)\n",
    "thinkplot.Cdf(log_cdf1)\n",
    "thinkplot.Show(xlabel='Household Income', ylabel='CDF')"
   ]
  },
  {
   "cell_type": "code",
   "execution_count": 100,
   "metadata": {},
   "outputs": [
    {
     "data": {
      "image/png": "[encoded data removed]",
      "text/plain": [
       "<Figure size 432x288 with 1 Axes>"
      ]
     },
     "metadata": {
      "needs_background": "light"
     },
     "output_type": "display_data"
    },
    {
     "data": {
      "text/plain": [
       "<Figure size 576x432 with 0 Axes>"
      ]
     },
     "metadata": {},
     "output_type": "display_data"
    }
   ],
   "source": [
    "pdf = thinkstats2.EstimatedPdf(sample)\n",
    "thinkplot.Pdf(pdf)\n",
    "thinkplot.Show(xlabel='Household income', ylabel='PDF')"
   ]
  },
  {
   "cell_type": "code",
   "execution_count": 101,
   "metadata": {},
   "outputs": [
    {
     "data": {
      "image/png": "[encoded data removed]",
      "text/plain": [
       "<Figure size 432x288 with 1 Axes>"
      ]
     },
     "metadata": {
      "needs_background": "light"
     },
     "output_type": "display_data"
    },
    {
     "data": {
      "text/plain": [
       "<Figure size 576x432 with 0 Axes>"
      ]
     },
     "metadata": {},
     "output_type": "display_data"
    }
   ],
   "source": [
    "pdf1 = thinkstats2.EstimatedPdf(sample1)\n",
    "thinkplot.Pdf(pdf)\n",
    "thinkplot.Show(xlabel='Household Income', ylabel='PDF')"
   ]
  },
  {
   "cell_type": "code",
   "execution_count": 102,
   "metadata": {},
   "outputs": [
    {
     "name": "stdout",
     "output_type": "stream",
     "text": [
      "Sample mean: 74278.70753118739\n",
      "Sample median: 51226.45447894046\n",
      "\n",
      "Sample 1 mean: 124267.39722164693\n",
      "Sample 1 median: 51226.45447894046\n",
      "Roughly 66% of households make less than the mean.\n",
      "The upper bound affects results by increasing the moment-based skewness.\n",
      "Since the upper bound of 1 million is not correct and we lack the information for the higher incomes\n",
      "We can't accurately make predictions for the skewness.\n"
     ]
    },
    {
     "data": {
      "image/png": "[encoded data removed]",
      "text/plain": [
       "<Figure size 432x288 with 1 Axes>"
      ]
     },
     "metadata": {
      "needs_background": "light"
     },
     "output_type": "display_data"
    }
   ],
   "source": [
    "\"\"\"\n",
    "With a higher upper bound, we can see a change in the sample skewness from 4.94 to 11.60. \n",
    "The standard deviation also increases significantly from 93946 to 559608. \n",
    "However Pearson's skewness decreases from .73 to .39. \n",
    "\n",
    "The solution file mentions that this is because the sd is raised two the third power as a denominator.\n",
    "I'll take the author's word for it. \n",
    "\n",
    "I've gone ahead and recalculated the mean and median based on the information in the ipynb file\n",
    "even though I already completed it using the density.Summarize function above. \n",
    "\n",
    "I'm really trying to understand this better. I got confused when calculating the fraction of households\n",
    "with income below the mean. I knew I needed to use a CDF to calculate it, but was unsure how to go about this.\n",
    "\n",
    "That is why I recalculated everything based on the ipynb file, upon recalculating, I realized that this is \n",
    "the statistic with cdf[mean].\n",
    "\n",
    "\n",
    "\n",
    "\n",
    "\n",
    "\"\"\"\n",
    "def RawMoment(xs, k):\n",
    "    return sum(x**k for x in xs) / len(xs)\n",
    "\n",
    "def Mean(xs):\n",
    "    return RawMoment(xs, 1)\n",
    "\n",
    "def Median(xs):\n",
    "    cdf = thinkstats2.Cdf(xs)\n",
    "    return cdf.Value(0.5)\n",
    "\n",
    "\n",
    "s_mean = Mean(sample)\n",
    "s1_mean = Mean(sample1)\n",
    "\n",
    "s_med = Median(sample)\n",
    "s1_med = Median(sample1)\n",
    "\n",
    "print(f\"Sample mean: {s_mean}\")\n",
    "print(f\"Sample median: {s_med}\")\n",
    "\n",
    "print(f\"\\nSample 1 mean: {s1_mean}\")\n",
    "print(f\"Sample 1 median: {s1_med}\")\n",
    "\n",
    "\n",
    "\n",
    "cdf = thinkstats2.Cdf(sample)\n",
    "thinkplot.Cdf(cdf)\n",
    "thinkplot.Config(xlabel='Household income ($)', ylabel='CDF')\n",
    "\n",
    "\n",
    "lt_mean = '{:.0%}'.format(cdf.Prob(Mean(sample)))\n",
    "print(f\"Roughly {lt_mean} of households make less than the mean.\")\n",
    "\n",
    "print(\"The upper bound affects results by increasing the moment-based skewness.\")\n",
    "print(\"Since the upper bound of 1 million is not correct and we lack the information for the higher incomes\")\n",
    "print(\"We can't accurately make predictions for the skewness.\")\n"
   ]
  },
  {
   "cell_type": "code",
   "execution_count": null,
   "metadata": {},
   "outputs": [],
   "source": []
  }
 ],
 "metadata": {
  "kernelspec": {
   "display_name": "Python 3",
   "language": "python",
   "name": "python3"
  },
  "language_info": {
   "codemirror_mode": {
    "name": "ipython",
    "version": 3
   },
   "file_extension": ".py",
   "mimetype": "text/x-python",
   "name": "python",
   "nbconvert_exporter": "python",
   "pygments_lexer": "ipython3",
   "version": "3.7.3"
  }
 },
 "nbformat": 4,
 "nbformat_minor": 2
}
